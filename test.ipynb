{
 "cells": [
  {
   "cell_type": "code",
   "execution_count": 5,
   "id": "929dfb71-27b6-40aa-9922-aa9fde9d4119",
   "metadata": {},
   "outputs": [],
   "source": [
    "import torch\n",
    "from train import read_data"
   ]
  },
  {
   "cell_type": "code",
   "execution_count": 2,
   "id": "277b8e97-f32b-416d-87a0-c25326d236f6",
   "metadata": {},
   "outputs": [],
   "source": [
    "mod = torch.load('model_01022023')"
   ]
  },
  {
   "cell_type": "code",
   "execution_count": 6,
   "id": "dff96b2c-033e-47aa-be2c-df87e352b7fe",
   "metadata": {},
   "outputs": [],
   "source": [
    "input = read_data()\n",
    "chars=sorted(list(set(input)))\n",
    "# Character-level tokenizer\n",
    "stoi = { ch:i for i,ch in enumerate(chars) }\n",
    "itos = { i:ch for i,ch in enumerate(chars) }\n",
    "encode = lambda s: [stoi[c] for c in s]\n",
    "decode = lambda l: ''.join([itos[i] for i in l])"
   ]
  },
  {
   "cell_type": "code",
   "execution_count": 7,
   "id": "5c950e05-6fbe-4ce2-84b9-da4d9825823b",
   "metadata": {},
   "outputs": [
    {
     "name": "stdout",
     "output_type": "stream",
     "text": [
      "\n",
      "\n",
      "ESCALUS:\n",
      "fie, this and the kings of the since,\n",
      "And with his Mowwbrathe made in have healned; the deem you, the crow cals deces upose.\n",
      "\n",
      "KING LEWIS XI:\n",
      "Well, that is men.\n",
      "\n",
      "CORIOLANUS:\n",
      "And, fair part, Sarciater.\n",
      "Beforth and gains the Caiusamin, score, and sweet my red, fortunest counce for your brish! and year.\n",
      "\n",
      "APULET:\n",
      "Prevended thy cushor,\n",
      "Or staings is cousin his break of montly show belike us I am signak, as he these have do did spent,\n",
      "Nost ceever you and hence, by paned her done. and.\n",
      "You bot\n"
     ]
    }
   ],
   "source": [
    "# generate from the model\n",
    "context = torch.zeros((1, 1), dtype=torch.long, device='cpu')\n",
    "print(decode(mod.generate(context, max_new_tokens=500)[0].tolist()))"
   ]
  }
 ],
 "metadata": {
  "kernelspec": {
   "display_name": "Python 3 (ipykernel)",
   "language": "python",
   "name": "python3"
  },
  "language_info": {
   "codemirror_mode": {
    "name": "ipython",
    "version": 3
   },
   "file_extension": ".py",
   "mimetype": "text/x-python",
   "name": "python",
   "nbconvert_exporter": "python",
   "pygments_lexer": "ipython3",
   "version": "3.11.4"
  }
 },
 "nbformat": 4,
 "nbformat_minor": 5
}
